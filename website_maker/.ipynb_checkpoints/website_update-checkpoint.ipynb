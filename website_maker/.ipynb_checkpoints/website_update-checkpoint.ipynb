{
 "cells": [
  {
   "cell_type": "code",
   "execution_count": null,
   "id": "3639cbc3",
   "metadata": {},
   "outputs": [],
   "source": [
    "import markdown\n",
    "\n",
    "with open('Picnic.md', 'r') as f:\n",
    "    text = f.read()\n",
    "    html = markdown.markdown(text)\n",
    "\n",
    "with open('Picnic.html', 'w') as f:\n",
    "    f.write(html)"
   ]
  }
 ],
 "metadata": {
  "kernelspec": {
   "display_name": "Python 3 (ipykernel)",
   "language": "python",
   "name": "python3"
  },
  "language_info": {
   "codemirror_mode": {
    "name": "ipython",
    "version": 3
   },
   "file_extension": ".py",
   "mimetype": "text/x-python",
   "name": "python",
   "nbconvert_exporter": "python",
   "pygments_lexer": "ipython3",
   "version": "3.9.7"
  }
 },
 "nbformat": 4,
 "nbformat_minor": 5
}
