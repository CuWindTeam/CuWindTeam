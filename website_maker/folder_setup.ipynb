{
 "cells": [
  {
   "cell_type": "code",
   "execution_count": 4,
   "id": "2384197e",
   "metadata": {},
   "outputs": [],
   "source": [
    "years = \"2022_2023\"\n",
    "people = [\"P1\",\"P2\",\"P3\"]\n",
    "\n",
    "import os \n",
    "import csv\n",
    "\n",
    "#Creating All Folders Needed\n",
    "path = os.path.join(\"years\",years)\n",
    "isExist = os.path.exists(path)\n",
    "if not isExist:\n",
    "    os.makedirs(path)\n",
    "    \n",
    "path = os.path.join(\"years\",years,\"TeamInfo\")\n",
    "isExist = os.path.exists(path)\n",
    "if not isExist:\n",
    "    os.makedirs(path)\n",
    "    \n",
    "path = os.path.join(\"years\",years,\"TeamInfo/images\")\n",
    "isExist = os.path.exists(path)\n",
    "if not isExist:\n",
    "    os.makedirs(path)\n",
    "    \n",
    "path = os.path.join(\"years\",years,\"TeamInfo/team_members\")\n",
    "isExist = os.path.exists(path)\n",
    "if not isExist:\n",
    "    os.makedirs(path)\n",
    "    \n",
    "path = os.path.join(\"years\",years,\"Contests/contest_info\")\n",
    "isExist = os.path.exists(path)\n",
    "if not isExist:\n",
    "    os.makedirs(path)\n",
    "    \n",
    "for person in people:\n",
    "    path = os.path.join(\"years\",years,\"TeamInfo/team_members\",person)\n",
    "    isExist = os.path.exists(path)\n",
    "    if not isExist:\n",
    "        os.makedirs(path)\n",
    "        \n",
    "    file = open(os.path.join(path,str(person+\".md\")), \"w\")\n",
    "    \n",
    "with open(os.path.join(\"years\",years,\"TeamInfo/team.csv\"),'w') as file:\n",
    "    file.write(\"Name,Position,Card_Description,Mail,LinkedIn\\n\")\n",
    "    for person in people:\n",
    "        file.write(person)\n",
    "        file.write(\"\\n\")\n",
    "    file.close()\n",
    "        "
   ]
  },
  {
   "cell_type": "code",
   "execution_count": null,
   "id": "43a69019",
   "metadata": {},
   "outputs": [],
   "source": []
  }
 ],
 "metadata": {
  "kernelspec": {
   "display_name": "Python 3 (ipykernel)",
   "language": "python",
   "name": "python3"
  },
  "language_info": {
   "codemirror_mode": {
    "name": "ipython",
    "version": 3
   },
   "file_extension": ".py",
   "mimetype": "text/x-python",
   "name": "python",
   "nbconvert_exporter": "python",
   "pygments_lexer": "ipython3",
   "version": "3.9.7"
  }
 },
 "nbformat": 4,
 "nbformat_minor": 5
}
