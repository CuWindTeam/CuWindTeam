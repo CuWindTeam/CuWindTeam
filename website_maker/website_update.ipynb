{
 "cells": [
  {
   "cell_type": "code",
   "execution_count": 9,
   "id": "3639cbc3",
   "metadata": {},
   "outputs": [],
   "source": [
    "import markdown\n",
    "import os\n",
    "import glob\n",
    "import shutil\n",
    "\n",
    "with open(r\"C:\\Users\\Aaron Schwan\\Documents\\GitHub\\CuWindTeam\\website_maker\\years\\2021_2022\\TeamInfo\\team_members\\Aaron Schwan\\Aaron Schwan.md\", 'r') as f:\n",
    "    text = f.read()\n",
    "    html = markdown.markdown(text)\n",
    "\n",
    "path = os.path.join(os.pardir,'2021_2022/Aaron')\n",
    "isExist = os.path.exists(path)\n",
    "if not isExist:\n",
    "    os.makedirs(path)\n",
    "    \n",
    "    \n",
    "with open(os.path.join(os.pardir,'2021_2022/Aaron/Aaron.html'), 'w') as f:\n",
    "    f.write(html)\n",
    "    \n",
    "src_dir = r\"C:\\Users\\Aaron Schwan\\Documents\\GitHub\\CuWindTeam\\website_maker\\years\\2021_2022\\TeamInfo\\team_members\\Aaron Schwan\"\n",
    "dst_dir = os.path.join(os.pardir,'2021_2022/Aaron')\n",
    "for jpgfile in glob.iglob(os.path.join(src_dir, \"Aaron Schwan.jpeg\")):\n",
    "    shutil.copy(jpgfile, dst_dir)"
   ]
  },
  {
   "cell_type": "code",
   "execution_count": null,
   "id": "f353a1e9",
   "metadata": {},
   "outputs": [],
   "source": []
  }
 ],
 "metadata": {
  "kernelspec": {
   "display_name": "Python 3 (ipykernel)",
   "language": "python",
   "name": "python3"
  },
  "language_info": {
   "codemirror_mode": {
    "name": "ipython",
    "version": 3
   },
   "file_extension": ".py",
   "mimetype": "text/x-python",
   "name": "python",
   "nbconvert_exporter": "python",
   "pygments_lexer": "ipython3",
   "version": "3.9.7"
  }
 },
 "nbformat": 4,
 "nbformat_minor": 5
}
